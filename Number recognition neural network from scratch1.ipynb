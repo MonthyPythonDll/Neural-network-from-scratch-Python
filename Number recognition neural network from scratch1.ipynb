{
 "cells": [
  {
   "cell_type": "markdown",
   "id": "9eea058b",
   "metadata": {},
   "source": [
    "# Number recognition neural network"
   ]
  },
  {
   "cell_type": "markdown",
   "id": "69682171",
   "metadata": {},
   "source": [
    "## Import libraries"
   ]
  },
  {
   "cell_type": "code",
   "execution_count": null,
   "id": "b569d913",
   "metadata": {},
   "outputs": [],
   "source": [
    "import numpy as np\n",
    "import matplotlib.pyplot as plt\n",
    "from keras.datasets import mnist\n",
    "import random"
   ]
  },
  {
   "cell_type": "markdown",
   "id": "dc487ccf",
   "metadata": {},
   "source": [
    "## Prepare training and test data"
   ]
  },
  {
   "cell_type": "code",
   "execution_count": null,
   "id": "98b3da7a",
   "metadata": {},
   "outputs": [],
   "source": [
    "# Load the data\n",
    "(train_X, train_y), (test_X, test_y) = mnist.load_data()\n",
    "\n",
    "imageSize = 28\n",
    "numImages = 60000\n",
    "# Normalize data\n",
    "(train_X, train_y), (test_X, test_y) = (train_X/256, train_y), (test_X/256, test_y)\n",
    "# Plot the first image\n",
    "plt.xticks([])\n",
    "plt.yticks([])\n",
    "plt.imshow( train_X[0], cmap='gray' )\n",
    "plt.show()"
   ]
  },
  {
   "cell_type": "code",
   "execution_count": null,
   "id": "4c114f52",
   "metadata": {},
   "outputs": [],
   "source": [
    "# Plot the first 35 images\n",
    "for i in range(35):\n",
    "    plt.subplot(5, 7, i+1)\n",
    "    plt.xticks([])\n",
    "    plt.yticks([])\n",
    "    plt.imshow( train_X[i], cmap='gray' )\n",
    "\n",
    "plt.show()"
   ]
  },
  {
   "cell_type": "code",
   "execution_count": null,
   "id": "e853b3b8",
   "metadata": {},
   "outputs": [],
   "source": [
    "# Add additional value '1' to the beginning of each image (necessary for the bias)\n",
    "zeros = np.full([numImages, 1], 1)\n",
    "zeros1 = np.full([10000, 1], 1)\n",
    "train_X = train_X.reshape(60000, 28*28)\n",
    "test_X = test_X.reshape(10000, 28*28)\n",
    "train_X = np.append(zeros, train_X, axis= 1)\n",
    "test_X = np.append(zeros1, test_X, axis= 1)\n",
    "print(\"train_X shape: \" + str(train_X.shape))\n",
    "print(\"test_X shape: \" + str(test_X.shape))"
   ]
  },
  {
   "cell_type": "markdown",
   "id": "998c6d36",
   "metadata": {},
   "source": [
    "### Transform training labels array to array of 10 component vectors"
   ]
  },
  {
   "cell_type": "code",
   "execution_count": null,
   "id": "0779d3fe",
   "metadata": {},
   "outputs": [],
   "source": [
    "# Data preview\n",
    "train_y[0:10]"
   ]
  },
  {
   "cell_type": "code",
   "execution_count": null,
   "id": "1687cc74",
   "metadata": {},
   "outputs": [],
   "source": [
    "# Transform the numbers to 10 component vectors\n",
    "train_y = np.identity(10)[train_y]\n",
    "# Preview after tranformation\n",
    "train_y[0:10]"
   ]
  },
  {
   "cell_type": "markdown",
   "id": "b595557a",
   "metadata": {},
   "source": [
    "## Setting up the neural network"
   ]
  },
  {
   "cell_type": "markdown",
   "id": "dd0f5171",
   "metadata": {},
   "source": [
    "Input layer length: 785 neurons (1 bias + 28x28 pixels)\n",
    "\n",
    "Hidden layer length: 10 neurons (this number can be changed if needed to impove performance)\n",
    "\n",
    "Output layer length: 10 neurons (result catergories - 10 digits)"
   ]
  },
  {
   "cell_type": "code",
   "execution_count": null,
   "id": "599ecf13",
   "metadata": {},
   "outputs": [],
   "source": [
    "# Define the number of layers and neurons per layer\n",
    "numLayers = [28*28+1,10,10]"
   ]
  },
  {
   "cell_type": "markdown",
   "id": "124a0720",
   "metadata": {},
   "source": [
    "### Initialize weights: Numbers in the range from -2 to 2"
   ]
  },
  {
   "cell_type": "code",
   "execution_count": null,
   "id": "a84651eb",
   "metadata": {},
   "outputs": [],
   "source": [
    "# Generate random weights for layers input-hidden and hidden-output\n",
    "weights = [\n",
    "    4 * np.random.random_sample([numLayers[0],numLayers[1]]) - 2,\n",
    "    4 * np.random.random_sample([numLayers[1],numLayers[2]]) - 2\n",
    "    ]"
   ]
  },
  {
   "cell_type": "markdown",
   "id": "2002825a",
   "metadata": {},
   "source": [
    "### Activation function"
   ]
  },
  {
   "cell_type": "code",
   "execution_count": null,
   "id": "c828de44",
   "metadata": {},
   "outputs": [],
   "source": [
    "# A monotonuous function that rescales a value to the range [0,1] (in this case sigmoid function) and it's derivative\n",
    "def activation(x):\n",
    "    return 1 / (1 + np.exp(-x))\n",
    "\n",
    "def activationDerivative(x):\n",
    "    return np.exp(-x) / (1 + np.exp(-x))**2\n",
    "\n",
    "# Plot functions\n",
    "x = np.linspace(-5,5,101)\n",
    "y1 = activation(x)\n",
    "y2 = activationDerivative(x)\n",
    "plt.plot(x, y1, label='activation function a(x)')\n",
    "plt.plot(x, y2, label=\"derivative a'(x)\")\n",
    "plt.legend()\n",
    "plt.show()"
   ]
  },
  {
   "cell_type": "markdown",
   "id": "06557e8b",
   "metadata": {},
   "source": [
    "### Calculate output of the neural network"
   ]
  },
  {
   "cell_type": "markdown",
   "id": "064f203f",
   "metadata": {},
   "source": [
    "The value of a neuron is given as the dot product of the two vectors:\n",
    "\n",
    "    weights\n",
    "    output of the neurons in the previous layer\n",
    "\n",
    "This value is then rescaled by the activation function."
   ]
  },
  {
   "cell_type": "code",
   "execution_count": null,
   "id": "1b75e1e0",
   "metadata": {},
   "outputs": [],
   "source": [
    "# A function that calculates the output of a layer taking input or output from previous layer and weights\n",
    "def calculateNext(x,w):\n",
    "    # x: input\n",
    "    # w: weights\n",
    "    return activation( np.dot(x,w) )"
   ]
  },
  {
   "cell_type": "code",
   "execution_count": null,
   "id": "54576ee1",
   "metadata": {},
   "outputs": [],
   "source": [
    "# Apply the function twice to directly calculate the output - 10 component vector\n",
    "testIndex = 50\n",
    "calculateNext(\n",
    "    calculateNext( train_X[testIndex], weights[0] ),\n",
    "    weights[1]\n",
    ")"
   ]
  },
  {
   "cell_type": "code",
   "execution_count": null,
   "id": "bf57dc65",
   "metadata": {},
   "outputs": [],
   "source": [
    "# Given an array of values returns an array of 10 component vectors\n",
    "calculateNext(\n",
    "    calculateNext( train_X, weights[0] ),\n",
    "    weights[1]\n",
    ")"
   ]
  },
  {
   "cell_type": "markdown",
   "id": "ca1267ba",
   "metadata": {},
   "source": [
    "### Calculate accuracy and individual error"
   ]
  },
  {
   "cell_type": "code",
   "execution_count": null,
   "id": "1cd55111",
   "metadata": {},
   "outputs": [],
   "source": [
    "# Accuracy: calculate percentage of correctly guessed targets\n",
    "def accuracy(testIn,testOut,weights):\n",
    "    return (len(testOut) - np.sum(\n",
    "            np.abs(\n",
    "                np.sign(\n",
    "                    np.abs(testOut - calculateNext(calculateNext(testIn, weights[0]), weights[1]).argmax(axis=1))\n",
    "                )\n",
    "            )\n",
    "        )) / len(testOut)"
   ]
  },
  {
   "cell_type": "code",
   "execution_count": null,
   "id": "d3b8d004",
   "metadata": {},
   "outputs": [],
   "source": [
    "# Test the function on an array of 10 inputs and 10 target values\n",
    "acc = accuracy(test_X[0:10],test_y[0:10],weights)\n",
    "print(\"Prediction: \" + str(calculateNext(calculateNext(test_X[0:10], weights[0]), weights[1]).argmax(axis=1)))\n",
    "print(\"Target:     \" + str(test_y[0:10]))\n",
    "print(\"Accuracy: \" + str(acc))"
   ]
  },
  {
   "cell_type": "code",
   "execution_count": null,
   "id": "5e6b600e",
   "metadata": {},
   "outputs": [],
   "source": [
    "# Error: calculate the difference between each pair of 10 component vectors (predicted and target)\n",
    "# Subtract vectors, transform all values to absolute values and return the sum of those values\n",
    "def error(predictedValues, correctValues):\n",
    "    print(predictedValues)\n",
    "    print(correctValues)\n",
    "    print(np.sum( np.absolute(predictedValues - correctValues) ))\n",
    "    return np.sum( np.absolute(predictedValues - correctValues) )"
   ]
  },
  {
   "cell_type": "code",
   "execution_count": null,
   "id": "6bbd5847",
   "metadata": {},
   "outputs": [],
   "source": [
    "# Test the function with one 10 component vector\n",
    "error(calculateNext(calculateNext( train_X[testIndex], weights[0] ),weights[1]), train_y[testIndex])"
   ]
  },
  {
   "cell_type": "markdown",
   "id": "11881d13",
   "metadata": {},
   "source": [
    "### Calculate gradient "
   ]
  },
  {
   "cell_type": "code",
   "execution_count": null,
   "id": "44eb56b8",
   "metadata": {},
   "outputs": [],
   "source": [
    "# Slow calculation: Calculate the gradient function using loops (10000 steps per 1100s)\n",
    "def gradientSlow(x,w,correctValues):\n",
    "    dot = np.dot(x,w[0])\n",
    "    hiddenValues = activation( dot ) \n",
    "    hiddenValuesDerivative = activationDerivative( dot )\n",
    "    hiddenValuesDerivative2 = activationDerivative(np.dot(hiddenValues,w[1]))\n",
    "    diff = calculateNext(hiddenValues, w[1]) - correctValues\n",
    "\n",
    "    grad1 = np.array([\n",
    "        2 * diff * hiddenValuesDerivative2 * hiddenValues[i]\n",
    "        for i in range(numLayers[1])])\n",
    "    grad0 = np.array([\n",
    "        [ 2 * np.sum(\n",
    "            diff[:] * hiddenValuesDerivative2[:] * w[1][i,:] * hiddenValuesDerivative[i] * x[k]\n",
    "        ) for i in range(numLayers[1])] \n",
    "        for k in range(numLayers[0])])\n",
    "\n",
    "    return [grad0, grad1]"
   ]
  },
  {
   "cell_type": "code",
   "execution_count": null,
   "id": "a356aca8",
   "metadata": {},
   "outputs": [],
   "source": [
    "# Faster calculation: using matrix multiplication and only one loop (10000 steps per 10s)\n",
    "def gradient(x,w,correctValues):\n",
    "    dot = np.dot(x,w[0])\n",
    "    hiddenValues = activation( dot ) \n",
    "    #hiddenValues = calculateNext( x, w[0] )\n",
    "    hiddenValuesDerivative = activationDerivative( dot )\n",
    "    hiddenValuesDerivative2 = activationDerivative(np.dot(hiddenValues,w[1]))\n",
    "    diff = calculateNext(hiddenValues, w[1]) - correctValues\n",
    "\n",
    "    grad1 = 2 * np.matmul(np.transpose(np.array([hiddenValues])), np.array([diff * hiddenValuesDerivative2]) )\n",
    "    grad0 = 2 * np.sum(np.array([np.matmul(np.transpose(np.array([x])),\n",
    "            np.array([diff[j] * hiddenValuesDerivative2[j] * w[1][:,j] * hiddenValuesDerivative]))\n",
    "            for j in range(numLayers[2])]), axis=0)\n",
    "\n",
    "    return [grad0, grad1]"
   ]
  },
  {
   "cell_type": "code",
   "execution_count": null,
   "id": "3d9aad18",
   "metadata": {},
   "outputs": [],
   "source": [
    "# Fastets calculation: only matrix multiplication without loops (10000 steps per 6s)\n",
    "def gradientFast(x,w,correctValues):\n",
    "    dot = np.dot(x,w[0])\n",
    "    hiddenValues = activation( dot ) \n",
    "    #hiddenValues = calculateNext( x, w[0] )\n",
    "    hiddenValuesDerivative = activationDerivative( dot )\n",
    "    hiddenValuesDerivative2 = activationDerivative(np.dot(hiddenValues,w[1]))\n",
    "    diff = calculateNext(hiddenValues, w[1]) - correctValues\n",
    "    \n",
    "    grad1 = 2 * np.matmul(np.transpose(np.array([hiddenValues])), np.array([diff * hiddenValuesDerivative2]) )\n",
    "    grad0 = 2 * np.matmul(np.transpose(np.array([x])), np.array([(np.matmul(np.transpose(diff*hiddenValuesDerivative2),(np.transpose(w[1]) * hiddenValuesDerivative)))]))\n",
    "\n",
    "    return [grad0, grad1]"
   ]
  },
  {
   "cell_type": "code",
   "execution_count": null,
   "id": "2b18baae",
   "metadata": {},
   "outputs": [],
   "source": [
    "# Test if matrix multiplication has been done correctly\n",
    "gradSlow = gradientSlow(train_X[testIndex], weights, train_y[testIndex])\n",
    "grad = gradient(train_X[testIndex], weights, train_y[testIndex])\n",
    "gradFast = gradientFast(train_X[testIndex], weights, train_y[testIndex])\n",
    "print(\"First number in grad0 for all 3 methods: \")\n",
    "print(gradSlow[0][0][0], grad[0][0][0], gradFast[0][0][0])\n",
    "print(\"First number in grad1 for all 3 methods: \")\n",
    "print(gradSlow[1][0][0], grad[1][0][0], gradFast[1][0][0])"
   ]
  },
  {
   "cell_type": "markdown",
   "id": "d56c6aee",
   "metadata": {},
   "source": [
    "## Training: Use Gradient descent to change weights to minimize the error"
   ]
  },
  {
   "cell_type": "markdown",
   "id": "4291962d",
   "metadata": {},
   "source": [
    "Repeat the following process many time:\n",
    "\n",
    "    Select a random image (index)\n",
    "    Calculate the gradient of the error\n",
    "    Change weights accoding to:\n",
    "\n",
    "newWeights=oldWeights−learningRate⋅Gradient"
   ]
  },
  {
   "cell_type": "code",
   "execution_count": null,
   "id": "64664de9",
   "metadata": {},
   "outputs": [],
   "source": [
    "# Define learningRate and steps\n",
    "learningRate = 0.01\n",
    "steps = 100000\n",
    "\n",
    "# For quality check keep track of errors in each step\n",
    "errorList = [error(calculateNext(calculateNext(train_X[testIndex], weights[0]), weights[1]), train_y[testIndex])]"
   ]
  },
  {
   "cell_type": "code",
   "execution_count": null,
   "id": "d172f0e7",
   "metadata": {},
   "outputs": [],
   "source": [
    "# Train the model for number of steps\n",
    "for i in range(steps):\n",
    "    # pick random input\n",
    "    index = np.random.randint(numImages)\n",
    "    # update weights (go along opposite gradient)\n",
    "    grad = gradientFast(train_X[index], weights, train_y[index])\n",
    "    weights[0] = weights[0] - learningRate*grad[0]\n",
    "    weights[1] = weights[1] - learningRate*grad[1]\n",
    "    # calculate new error\n",
    "    er = error(calculateNext(calculateNext(train_X[index], weights[0]), weights[1]), train_y[index])\n",
    "    errorList.append( er )"
   ]
  },
  {
   "cell_type": "code",
   "execution_count": null,
   "id": "ed5c5a94",
   "metadata": {},
   "outputs": [],
   "source": [
    "# Plot the errors for each step\n",
    "plt.scatter(range(steps+1),errorList)"
   ]
  },
  {
   "cell_type": "markdown",
   "id": "6b5d0946",
   "metadata": {},
   "source": [
    "## Test the model on new data (test set)"
   ]
  },
  {
   "cell_type": "code",
   "execution_count": null,
   "id": "890b6456",
   "metadata": {},
   "outputs": [],
   "source": [
    "# Preview the data\n",
    "for i in range(35):\n",
    "    plt.subplot(5, 7, i+1)\n",
    "    plt.xticks([])\n",
    "    plt.yticks([])\n",
    "    plt.imshow( test_X[i,1:].reshape(imageSize, imageSize), cmap='gray' )\n",
    "\n",
    "plt.show()"
   ]
  },
  {
   "cell_type": "code",
   "execution_count": null,
   "id": "83b756c6",
   "metadata": {},
   "outputs": [],
   "source": [
    "# Make a prediction for the first picture (7) and plot the output\n",
    "testIndex = 0\n",
    "calculateNext(calculateNext(test_X[testIndex], weights[0]), weights[1])\n",
    "plt.bar(range(10), calculateNext(calculateNext(test_X[testIndex], weights[0]), weights[1])\n",
    ")"
   ]
  },
  {
   "cell_type": "code",
   "execution_count": null,
   "id": "9e83ceaa",
   "metadata": {},
   "outputs": [],
   "source": [
    "# Compare the output and the target value\n",
    "print(\"Prediction:   \" + str(calculateNext(calculateNext(test_X[testIndex], weights[0]), weights[1]).argmax()))\n",
    "print(\"Target value: \" + str(test_y[testIndex]))"
   ]
  },
  {
   "cell_type": "code",
   "execution_count": null,
   "id": "9b37e9f5",
   "metadata": {},
   "outputs": [],
   "source": [
    "# Compare the first 35 cases of output and target values from the test set\n",
    "print(\"Predictions:   \")\n",
    "print(calculateNext(calculateNext(test_X, weights[0]), weights[1]).argmax(axis=1)[:35].reshape(5,7))\n",
    "print(\"Target values: \")\n",
    "print(test_y[:35].reshape(5,7))"
   ]
  },
  {
   "cell_type": "code",
   "execution_count": null,
   "id": "9a8963fa",
   "metadata": {},
   "outputs": [],
   "source": [
    "# Calculate and compare accuracy across train and test sets\n",
    "print(\"Accuracy on train set: \" + str(accuracy(train_X,np.argmax(train_y, axis=1),weights)))\n",
    "print(\"Accuracy on test set : \" + str(accuracy(test_X,test_y,weights)))"
   ]
  },
  {
   "cell_type": "code",
   "execution_count": null,
   "id": "b10de500",
   "metadata": {},
   "outputs": [],
   "source": []
  }
 ],
 "metadata": {
  "kernelspec": {
   "display_name": "Python 3 (ipykernel)",
   "language": "python",
   "name": "python3"
  },
  "language_info": {
   "codemirror_mode": {
    "name": "ipython",
    "version": 3
   },
   "file_extension": ".py",
   "mimetype": "text/x-python",
   "name": "python",
   "nbconvert_exporter": "python",
   "pygments_lexer": "ipython3",
   "version": "3.9.2"
  }
 },
 "nbformat": 4,
 "nbformat_minor": 5
}
